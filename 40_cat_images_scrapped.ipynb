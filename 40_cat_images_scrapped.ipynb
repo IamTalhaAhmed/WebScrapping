{
 "cells": [
  {
   "cell_type": "code",
   "execution_count": 1,
   "id": "f8360294",
   "metadata": {},
   "outputs": [],
   "source": [
    "#importing needed libraries for the task\n",
    "from selenium.webdriver import Chrome\n",
    "from selenium.webdriver.chrome.service import Service\n",
    "from selenium.webdriver.chrome.options import Options\n",
    "from selenium.webdriver.common.by import By\n",
    "from selenium.webdriver.common.keys import Keys\n",
    "import time"
   ]
  },
  {
   "cell_type": "code",
   "execution_count": 21,
   "id": "0a891131",
   "metadata": {},
   "outputs": [],
   "source": [
    "#libraries used in saving the images using screenshots method\n",
    "from selenium.webdriver.support.ui import WebDriverWait\n",
    "from selenium.webdriver.support import expected_conditions as EC"
   ]
  },
  {
   "cell_type": "code",
   "execution_count": 16,
   "id": "ccdd83ad",
   "metadata": {},
   "outputs": [],
   "source": [
    "#Create an instance of webdriver and load the google webpage\n",
    "s = Service('/home/talha/Softwares/chromedriver_linux64/chromedriver')\n",
    "myoptions = Options()\n",
    "myoptions.headless = False # default settings\n",
    "driver = Chrome(service=s, options=myoptions) \n",
    "driver.maximize_window()\n",
    "driver.get('https://google.com') \n"
   ]
  },
  {
   "cell_type": "code",
   "execution_count": 17,
   "id": "8ecb4580",
   "metadata": {},
   "outputs": [],
   "source": [
    "\n",
    "# locate the search textbox, enter the search string and  press enter key\n",
    "driver.implicitly_wait(30)\n",
    "#tbox = driver.find_element(By.XPATH, '/html/body/div[1]/div[3]/form/div[1]/div[1]/div[1]/div/div[2]/input')\n",
    "#tbox = driver.find_element(By.XPATH, \"//input[@title='Search']\")\n",
    "tbox = driver.find_element(By.CSS_SELECTOR, \"input[title='Search']\")\n",
    "tbox.send_keys(\"Cat\")"
   ]
  },
  {
   "cell_type": "code",
   "execution_count": 18,
   "id": "26a47a2d",
   "metadata": {},
   "outputs": [],
   "source": [
    "# Instead of locating and clicking the search button, you can simplay press enter\n",
    "time.sleep(2)\n",
    "tbox.send_keys(Keys.ENTER) "
   ]
  },
  {
   "cell_type": "code",
   "execution_count": 19,
   "id": "56281805",
   "metadata": {},
   "outputs": [],
   "source": [
    "# Locate the image tab and click it to visit the images tab\n",
    "driver.implicitly_wait(30)\n",
    "#menu_img_link = driver.find_element(By.XPATH, '/html/body/div[7]/div/div[4]/div/div[1]/div/div[1]/div/div[2]/a')\n",
    "menu_img_link = driver.find_element(By.XPATH, '//*[@id=\"hdtb-msb\"]/div[1]/div/div[2]/a')\n",
    "menu_img_link.click()"
   ]
  },
  {
   "cell_type": "code",
   "execution_count": 20,
   "id": "a3f20b08",
   "metadata": {},
   "outputs": [
    {
     "name": "stdout",
     "output_type": "stream",
     "text": [
      "2063\n",
      "4007\n",
      "7653\n",
      "11299\n",
      "14945\n",
      "15026\n",
      "15026\n",
      "Done... Reached the bottom of the page\n"
     ]
    }
   ],
   "source": [
    "# Self-Scroll the entire page till you reach the bottom\n",
    "last_height =driver.execute_script('return document.body.scrollHeight')\n",
    "while True:\n",
    "    driver.execute_script('window.scrollTo(0,document.body.scrollHeight)')\n",
    "    time.sleep(4)\n",
    "    new_height =driver.execute_script('return document.body.scrollHeight')\n",
    "    if (new_height == last_height):\n",
    "        break\n",
    "    last_height = new_height\n",
    "\n",
    "print(\"Done... Reached the bottom of the page\")"
   ]
  },
  {
   "cell_type": "code",
   "execution_count": 22,
   "id": "314f9f07",
   "metadata": {},
   "outputs": [
    {
     "name": "stdout",
     "output_type": "stream",
     "text": [
      "Done... Check the folder for images of cats\n"
     ]
    }
   ],
   "source": [
    "# downlaod and save 40 images of cats\n",
    "for i in range(1,41):\n",
    "    try:\n",
    "        WebDriverWait(driver, 5).until\n",
    "        (EC.presence_of_element_located((By.XPATH, '//*[@id=\"islrg\"]/div[1]/div['+str(i)+']/a[1]/div[1]/img'))) \n",
    "        cat_img = driver.find_element(By.XPATH, '//*[@id=\"islrg\"]/div[1]/div['+str(i)+']/a[1]/div[1]/img')\n",
    "        cat_img.screenshot('/Users/arif/Downloads/cat_images/cat_img'+str(i)+'.png')\n",
    "    except:\n",
    "        continue\n",
    "\n",
    "print(\"Done... Check the folder for images of cats\")"
   ]
  },
  {
   "cell_type": "code",
   "execution_count": null,
   "id": "6d7f545d",
   "metadata": {},
   "outputs": [],
   "source": []
  }
 ],
 "metadata": {
  "kernelspec": {
   "display_name": "Python 3 (ipykernel)",
   "language": "python",
   "name": "python3"
  },
  "language_info": {
   "codemirror_mode": {
    "name": "ipython",
    "version": 3
   },
   "file_extension": ".py",
   "mimetype": "text/x-python",
   "name": "python",
   "nbconvert_exporter": "python",
   "pygments_lexer": "ipython3",
   "version": "3.9.12"
  }
 },
 "nbformat": 4,
 "nbformat_minor": 5
}
